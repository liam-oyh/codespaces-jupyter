{
 "cells": [
  {
   "cell_type": "code",
   "execution_count": 1,
   "metadata": {},
   "outputs": [],
   "source": [
    "# install psycopg2 in the terminal or run !pip install psycopg2\n",
    "import psycopg2 as ps\n",
    "import pandas as pd\n",
    "import os"
   ]
  },
  {
   "cell_type": "code",
   "execution_count": 2,
   "metadata": {},
   "outputs": [],
   "source": [
    "def connect_to_db(host_name, dbname, username, password, port):\n",
    "    try:\n",
    "        conn = ps.connect(host=host_name, database=dbname, user=username, password=password, port=port)\n",
    "\n",
    "    except ps.OperationalError as e:\n",
    "        raise e\n",
    "    else:\n",
    "        print('Connected!')\n",
    "    return conn"
   ]
  },
  {
   "cell_type": "code",
   "execution_count": 3,
   "metadata": {},
   "outputs": [],
   "source": [
    "# create table\n",
    "def create_table(curr):\n",
    "    create_table_command = \"\"\"CREATE TABLE IF NOT EXISTS videos (\n",
    "            video_id varchar(255) PRIMARY KEY,\n",
    "            video_title TEXT NOT NULL,\n",
    "            upload_date DATE NOT NULL DEFAULT CURRENT_DATE,\n",
    "            view_count INTEGER NOT NULL,\n",
    "            like_count INTEGER NOT NULL,\n",
    "            dislike_count INTEGER NOT NULL,\n",
    "            favorite_count INTEGER NOT NULL,\n",
    "            comment_count INTEGER NOT NULL\n",
    "        ) \"\"\"\n",
    "    \n",
    "    curr.execute(create_table_command)"
   ]
  },
  {
   "cell_type": "code",
   "execution_count": 4,
   "metadata": {},
   "outputs": [],
   "source": [
    "#check to see if videos exist\n",
    "def check_if_video_exists(curr, video_id):\n",
    "    query = (\"\"\"SELECT video_id FROM videos WHERE video_id= %s\"\"\")\n",
    "    curr.execute(query, (video_id,))\n",
    "\n",
    "    a = curr.fetchone() is not None\n",
    "    #return a single row from a table if a video is found with the id provided, if it doesn't it will return None\n",
    "    return a "
   ]
  },
  {
   "cell_type": "code",
   "execution_count": 5,
   "metadata": {},
   "outputs": [],
   "source": [
    "#update row query\n",
    "def update_row(curr, video_id, video_title, upload_date, view_count, like_count, dislike_count, favorite_count, comment_count):\n",
    "    query = \"\"\"\n",
    "            UPDATE videos\n",
    "            SET video_title = %s,\n",
    "                upload_date = %s,\n",
    "                view_count = %s,\n",
    "                like_count = %s,\n",
    "                dislike_count = %s,\n",
    "                favorite_count = %s,\n",
    "                comment_count = %s\n",
    "            WHERE video_id = %s;\n",
    "    \"\"\"\n",
    "    #the order of the vars need to be the same as the above query's, #video_id is for the lookup, don't confuse by the var name, it's to group what to be passed in the above query \n",
    "    vars_to_update = (video_title, upload_date, view_count, like_count, dislike_count, favorite_count, comment_count, video_id) \n",
    "    curr.execute(query, vars_to_update)"
   ]
  },
  {
   "cell_type": "code",
   "execution_count": 6,
   "metadata": {},
   "outputs": [],
   "source": [
    "#updating the database\n",
    "def update_table(curr, df):\n",
    "    tmp_df=pd.DataFrame(columns=['video_id', 'video_title', 'upload_date', 'view_count', 'like_count', 'dislike_count', 'favorite_count', 'comment_count'])\n",
    "    \n",
    "    for i, row in df.iterrows():\n",
    "        if check_if_video_exists(curr, row['video_id']):\n",
    "            update_row(curr, row['video_id'], row['video_title'], row['upload_date'], row['view_count'], row['like_count'], row['dislike_count'], row['favorite_count'], row['comment_count'] )\n",
    "        else:\n",
    "            tmp_df = pd.concat([tmp_df, row.to_frame().T], ignore_index=True)\n",
    "    \n",
    "    tmp_df = tmp_df.reset_index(drop=True)\n",
    "    \n",
    "    return tmp_df\n"
   ]
  },
  {
   "cell_type": "code",
   "execution_count": 7,
   "metadata": {},
   "outputs": [],
   "source": [
    "# insert query\n",
    "def insert_video(curr, video_id, video_title, upload_date, view_count, like_count, dislike_count, favorite_count, comment_count):\n",
    "    query = \"\"\" \n",
    "          INSERT INTO videos (video_id, video_title, upload_date, view_count, like_count, dislike_count, favorite_count, comment_count)\n",
    "          VALUES(%s, %s, %s, %s, %s, %s, %s, %s)  \n",
    "    \"\"\"\n",
    "    vars_to_insert= (video_id, video_title, upload_date, view_count, like_count, dislike_count, favorite_count, comment_count)\n",
    "    curr.execute(query, vars_to_insert)"
   ]
  },
  {
   "cell_type": "code",
   "execution_count": 8,
   "metadata": {},
   "outputs": [],
   "source": [
    "# function to insert new video\n",
    "def insert_videos_to_table(curr, df):\n",
    "    for i, row in df.iterrows():\n",
    "        insert_video(curr, row['video_id'], row['video_title'], row['upload_date'], row['view_count'], row['like_count'], row['dislike_count'], row['favorite_count'], row['comment_count'])"
   ]
  },
  {
   "cell_type": "code",
   "execution_count": 9,
   "metadata": {},
   "outputs": [],
   "source": [
    "#main\n",
    "#keys\n",
    "db_pass = os.environ.get('DBPW')\n"
   ]
  },
  {
   "cell_type": "code",
   "execution_count": 10,
   "metadata": {},
   "outputs": [
    {
     "name": "stdout",
     "output_type": "stream",
     "text": [
      "Connected!\n"
     ]
    }
   ],
   "source": [
    "host_name='database-yt.cnyrgchewj4c.us-east-2.rds.amazonaws.com'\n",
    "port = '5432'\n",
    "dbname = 'postgres'   # not the database identifier, but postgres\n",
    "username = 'liam'\n",
    "password = db_pass\n",
    "conn = None\n",
    "\n",
    "conn = connect_to_db(host_name, dbname, username, password, port)"
   ]
  },
  {
   "cell_type": "code",
   "execution_count": 11,
   "metadata": {},
   "outputs": [],
   "source": [
    "#use the connection to create a cursor variable\n",
    "curr = conn.cursor()"
   ]
  },
  {
   "cell_type": "code",
   "execution_count": 9,
   "metadata": {},
   "outputs": [],
   "source": [
    "create_table(curr)\n"
   ]
  },
  {
   "cell_type": "code",
   "execution_count": 12,
   "metadata": {},
   "outputs": [
    {
     "data": {
      "text/html": [
       "<div>\n",
       "<style scoped>\n",
       "    .dataframe tbody tr th:only-of-type {\n",
       "        vertical-align: middle;\n",
       "    }\n",
       "\n",
       "    .dataframe tbody tr th {\n",
       "        vertical-align: top;\n",
       "    }\n",
       "\n",
       "    .dataframe thead th {\n",
       "        text-align: right;\n",
       "    }\n",
       "</style>\n",
       "<table border=\"1\" class=\"dataframe\">\n",
       "  <thead>\n",
       "    <tr style=\"text-align: right;\">\n",
       "      <th></th>\n",
       "      <th>video_id</th>\n",
       "      <th>video_title</th>\n",
       "      <th>upload_date</th>\n",
       "      <th>view_count</th>\n",
       "      <th>like_count</th>\n",
       "      <th>dislike_count</th>\n",
       "      <th>favorite_count</th>\n",
       "      <th>comment_count</th>\n",
       "    </tr>\n",
       "  </thead>\n",
       "  <tbody>\n",
       "    <tr>\n",
       "      <th>0</th>\n",
       "      <td>d2neUrrUSu0</td>\n",
       "      <td>Python for Data Analysis: Probability And Bino...</td>\n",
       "      <td>2023-05-02</td>\n",
       "      <td>2200</td>\n",
       "      <td>5</td>\n",
       "      <td>1</td>\n",
       "      <td>2</td>\n",
       "      <td>3</td>\n",
       "    </tr>\n",
       "  </tbody>\n",
       "</table>\n",
       "</div>"
      ],
      "text/plain": [
       "      video_id                                        video_title upload_date  \\\n",
       "0  d2neUrrUSu0  Python for Data Analysis: Probability And Bino...  2023-05-02   \n",
       "\n",
       "   view_count  like_count  dislike_count  favorite_count  comment_count  \n",
       "0        2200           5              1               2              3  "
      ]
     },
     "execution_count": 12,
     "metadata": {},
     "output_type": "execute_result"
    }
   ],
   "source": [
    "df = pd.read_csv(\"video_stats_new.csv\", index_col=0)\n",
    "df.head()"
   ]
  },
  {
   "cell_type": "code",
   "execution_count": 13,
   "metadata": {},
   "outputs": [],
   "source": [
    "new_vid_df = update_table(curr, df)"
   ]
  },
  {
   "cell_type": "code",
   "execution_count": 18,
   "metadata": {},
   "outputs": [],
   "source": [
    "insert_videos_to_table(curr, new_vid_df)"
   ]
  },
  {
   "cell_type": "code",
   "execution_count": 19,
   "metadata": {},
   "outputs": [],
   "source": [
    "\n",
    "conn.commit()"
   ]
  },
  {
   "cell_type": "code",
   "execution_count": 17,
   "metadata": {},
   "outputs": [],
   "source": [
    "conn.rollback()"
   ]
  },
  {
   "cell_type": "code",
   "execution_count": null,
   "metadata": {},
   "outputs": [],
   "source": []
  }
 ],
 "metadata": {
  "kernelspec": {
   "display_name": "Python 3",
   "language": "python",
   "name": "python3"
  },
  "language_info": {
   "codemirror_mode": {
    "name": "ipython",
    "version": 3
   },
   "file_extension": ".py",
   "mimetype": "text/x-python",
   "name": "python",
   "nbconvert_exporter": "python",
   "pygments_lexer": "ipython3",
   "version": "3.10.4"
  },
  "orig_nbformat": 4
 },
 "nbformat": 4,
 "nbformat_minor": 2
}
